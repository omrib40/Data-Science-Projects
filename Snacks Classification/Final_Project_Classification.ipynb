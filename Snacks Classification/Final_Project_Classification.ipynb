{
 "cells": [
  {
   "cell_type": "markdown",
   "metadata": {},
   "source": [
    "# Applications In Data Science Semester B 2021 TAU - Final Assignment\n",
    "## Part 2 - Classification\n",
    "### Omri Berkovitch\n",
    "\n",
    "### Overview :\n",
    "#### This notebook contains my way towards classification of the snacks data sets.\n",
    "#### I took the following approach :\n",
    "* Data Sets - Used all of them.\n",
    "* Data Preperation:\n",
    "    * Aggregation of the nutrition values per each snack\n",
    "    * Used some base text cleanings and manipulations algorithms over several text columns \n",
    "    * Used Variation of One hot encoder over the Ingredients and Description columns\n",
    "    * Embedded the Images.\n",
    "* Model :\n",
    "    * I have tried the following models: RandomForest, XGBoost, Logistic Regression\n",
    "        But took the one gave me the best score, XGBoost.\n",
    "    * Did Parameters Tuning via GridSearchCV\n",
    "* Appendix's(At the end):\n",
    "    * Appendix 1 - Contains the code which transformed the Images into tables\n",
    "    * Appendix 2 - Combining the 3 tabular data sets into one(nutrition, food nutrition, train)\n",
    "    * Appendix 3 - Parameters Tuning"
   ]
  },
  {
   "cell_type": "code",
   "execution_count": 502,
   "metadata": {},
   "outputs": [],
   "source": [
    "import string\n",
    "import pandas as pd\n",
    "import numpy as np\n",
    "import pickle\n",
    "from nltk.tokenize import word_tokenize, RegexpTokenizer\n",
    "from nltk.stem.porter import *\n",
    "from nltk.corpus import stopwords\n",
    "from sklearn import preprocessing\n",
    "from sklearn.decomposition import PCA\n",
    "from sklearn.preprocessing import MultiLabelBinarizer, LabelEncoder\n",
    "from xgboost import XGBClassifier\n",
    "from sklearn.model_selection import train_test_split, GridSearchCV\n",
    "from sklearn.metrics import plot_confusion_matrix, accuracy_score\n",
    "from rake_nltk import Rake\n",
    "from sklearn.ensemble import RandomForestClassifier\n",
    "from matplotlib import pyplot as plt"
   ]
  },
  {
   "cell_type": "code",
   "execution_count": 503,
   "metadata": {},
   "outputs": [],
   "source": [
    "df = pd.read_csv('combined_with_names.csv').drop('Unnamed: 0',axis=1)\n",
    "df_emb_train = pd.read_csv('embedded_train.csv') # See Appendix 1\n",
    "df_emb_test = pd.read_csv('embedded_test.csv') # See Appendix 1"
   ]
  },
  {
   "cell_type": "code",
   "execution_count": 504,
   "metadata": {},
   "outputs": [
    {
     "name": "stdout",
     "output_type": "stream",
     "text": [
      "(35276, 55) (31751, 513) (3525, 513)\n"
     ]
    }
   ],
   "source": [
    "print(df.shape, df_emb_train.shape, df_emb_test.shape)"
   ]
  },
  {
   "cell_type": "markdown",
   "metadata": {},
   "source": [
    "### Data Prep - Feature Engineering, Cleaning, Aggregations"
   ]
  },
  {
   "cell_type": "code",
   "execution_count": 505,
   "metadata": {},
   "outputs": [],
   "source": [
    "nut_cols = df.iloc[:,8:].columns\n",
    "\n",
    "ls1 = df[nut_cols].describe().T[df[nut_cols].describe().T['75%'] == 0].T.columns\n",
    "ls2 = df[nut_cols].describe().T[df[nut_cols].describe().T['max'] == 100].T.columns\n",
    "\n",
    "for col in ls1:\n",
    "    df[col] = np.where((df[col]>0),1,0) # Turns all cols with 75 pct equals 0 to binary\n",
    "for col in ls2:\n",
    "    df[col] = df[col]/100 # turn cols to 0-1\n",
    "    \n",
    "ls3 = df[nut_cols].describe().T[df[nut_cols].describe().T['max'] == 1].T.columns\n",
    "\n",
    "combined_ls = list(set(ls1).union(ls2).union(ls3))\n",
    "temp_df = df.drop(combined_ls,axis=1).iloc[:,8:].describe() # Lets check the columns that left"
   ]
  },
  {
   "cell_type": "code",
   "execution_count": 506,
   "metadata": {},
   "outputs": [
    {
     "data": {
      "text/plain": [
       "Calcium, Ca                      263.00\n",
       "Iron, Fe                           6.67\n",
       "Energy                           633.00\n",
       "Sodium, Na                      1000.00\n",
       "Cholesterol                       71.00\n",
       "Fatty acids, total saturated      25.00\n",
       "Name: 0.97, dtype: float64"
      ]
     },
     "execution_count": 506,
     "metadata": {},
     "output_type": "execute_result"
    }
   ],
   "source": [
    "df[temp_df.columns].quantile(0.97)"
   ]
  },
  {
   "cell_type": "code",
   "execution_count": 507,
   "metadata": {},
   "outputs": [],
   "source": [
    "df['Iron, Fe'] = np.where((df['Iron, Fe']> 6.67), df['Iron, Fe'].mean(), df['Iron, Fe'])\n",
    "df['Sodium, Na'] = np.where((df['Sodium, Na']> 1000), df['Sodium, Na'].mean(), df['Sodium, Na'])\n",
    "df['Cholesterol'] = np.where((df['Cholesterol']> 71), df['Cholesterol'].mean(), df['Cholesterol'])\n",
    "df['Calcium, Ca'] = np.where((df['Calcium, Ca']> 263), df['Calcium, Ca'].mean(), df['Calcium, Ca'])\n",
    "df['Fatty acids, total saturated'] = np.where((df['Fatty acids, total saturated']> 25), df['Fatty acids, total saturated'].mean(), df['Fatty acids, total saturated'])"
   ]
  },
  {
   "cell_type": "code",
   "execution_count": 508,
   "metadata": {},
   "outputs": [],
   "source": [
    "df = pd.merge(df, pd.concat([df_emb_train,df_emb_test]), on='idx', how='left')"
   ]
  },
  {
   "cell_type": "markdown",
   "metadata": {},
   "source": [
    "### Using nltk Stemmer In order to clean and organize the text columns\n",
    "##### This is for One hot encoder purposes"
   ]
  },
  {
   "cell_type": "code",
   "execution_count": 509,
   "metadata": {},
   "outputs": [],
   "source": [
    "# Using stemmer to deal with the long text in ingredients and description\n",
    "stemmer = PorterStemmer()\n",
    "stopwords = set(stopwords.words('english'))\n",
    "\n",
    "def clean_phrase(phrase):\n",
    "    if phrase is None: \n",
    "        return []\n",
    "    phrase = str(phrase).lower()\n",
    "    phrase = phrase.translate(str.maketrans('', '', string.punctuation))\n",
    "    phrase = set(word_tokenize(phrase)).difference(stopwords)\n",
    "    phrase = set(filter(lambda i: not str.isdigit(i), phrase))\n",
    "    words = set([stemmer.stem(w) for w in phrase if len(w) > 1])\n",
    "    return words"
   ]
  },
  {
   "cell_type": "code",
   "execution_count": 510,
   "metadata": {},
   "outputs": [],
   "source": [
    "df_try = df.drop(['brand', 'household_serving_fulltext','serving_size_unit'], axis=1)\n",
    "df_try['ing'] = df['ingredients'].apply(clean_phrase)\n",
    "df_try['desc'] = df['description'].apply(clean_phrase)"
   ]
  },
  {
   "cell_type": "code",
   "execution_count": 511,
   "metadata": {},
   "outputs": [
    {
     "data": {
      "text/plain": [
       "0                   {free, gluten, shortbread}\n",
       "1                {bite, browni, powder, sugar}\n",
       "2                 {organ, bake, snack, potato}\n",
       "3                      {organ, einkorn, cooki}\n",
       "4    {white, bite, tortilla, chip, corn, size}\n",
       "Name: desc, dtype: object"
      ]
     },
     "execution_count": 511,
     "metadata": {},
     "output_type": "execute_result"
    }
   ],
   "source": [
    "df_try['desc'][:5]"
   ]
  },
  {
   "cell_type": "code",
   "execution_count": 512,
   "metadata": {},
   "outputs": [],
   "source": [
    "# Using MultiLabelBinarizer to achieve one hot encoding over column with list of strings\n",
    "\n",
    "mlb1 = MultiLabelBinarizer()\n",
    "mlb2 = MultiLabelBinarizer()\n",
    "\n",
    "ings = mlb1.fit_transform(df_try['ing'])\n",
    "desc = mlb2.fit_transform(df_try['desc'])\n",
    "\n",
    "ings_df = pd.DataFrame(ings, columns=mlb1.classes_)\n",
    "desc_df = pd.DataFrame(desc, columns=mlb2.classes_)\n",
    "\n",
    "df_try = pd.concat([df_try, ings_df],axis=1)\n",
    "df_try = pd.concat([df_try, desc_df],axis=1)\n",
    "\n",
    "df_try = df_try.loc[:, (df_try==0).mean() < .9]\n",
    "df_try = df_try.drop(['ing', 'ingredients','desc','description'], axis=1)"
   ]
  },
  {
   "cell_type": "code",
   "execution_count": 513,
   "metadata": {},
   "outputs": [],
   "source": [
    "df_try = df_try.drop('chocol', axis=1)\n",
    "df_try_test = df_try[~df_try['category'].notna()]\n",
    "df_try = df_try[df_try['category'].notna()]"
   ]
  },
  {
   "cell_type": "markdown",
   "metadata": {},
   "source": [
    "### Using XGBOOST Classifier for the final task"
   ]
  },
  {
   "cell_type": "code",
   "execution_count": 524,
   "metadata": {},
   "outputs": [],
   "source": [
    "params = {'objective': 'multi:softprob', 'base_score': 0.5, 'booster': 'gbtree',\n",
    " 'colsample_bylevel': 1, 'colsample_bynode': 1,'colsample_bytree': 0.5,\n",
    " 'gamma': 0.4,'gpu_id': -1, 'interaction_constraints': '', 'learning_rate': 0.300000012,\n",
    " 'max_delta_step': 0,'max_depth': 7,'min_child_weight': 12, 'monotone_constraints': '()',\n",
    " 'n_jobs': -1, 'num_parallel_tree': 4, 'random_state': 0, 'reg_alpha': 0, 'reg_lambda': 1,\n",
    " 'scale_pos_weight': None, 'subsample': 1, 'tree_method': 'exact', \n",
    " 'validate_parameters': 1,'verbosity': None, 'verbose': True}\n",
    "\n",
    "xgb = XGBClassifier(**params)\n",
    "\n",
    "X_train, X_test, y_train, y_test = train_test_split(df_try.drop(['category', 'idx'], axis=1), \n",
    "                                                    df_try.category, test_size = .05,random_state = 30)\n"
   ]
  },
  {
   "cell_type": "code",
   "execution_count": 525,
   "metadata": {},
   "outputs": [
    {
     "name": "stderr",
     "output_type": "stream",
     "text": [
      "/Users/omriberkovitch/opt/anaconda3/lib/python3.8/site-packages/xgboost/sklearn.py:1146: UserWarning: The use of label encoder in XGBClassifier is deprecated and will be removed in a future release. To remove this warning, do the following: 1) Pass option use_label_encoder=False when constructing XGBClassifier object; and 2) Encode your labels (y) as integers starting with 0, i.e. 0, 1, 2, ..., [num_class - 1].\n",
      "  warnings.warn(label_encoder_deprecation_msg, UserWarning)\n"
     ]
    },
    {
     "name": "stdout",
     "output_type": "stream",
     "text": [
      "[16:11:54] WARNING: /Users/travis/build/dmlc/xgboost/src/learner.cc:573: \n",
      "Parameters: { \"verbose\" } might not be used.\n",
      "\n",
      "  This may not be accurate due to some parameters are only used in language bindings but\n",
      "  passed down to XGBoost core.  Or some parameters are not used but slip through this\n",
      "  verification. Please open an issue if you find above cases.\n",
      "\n",
      "\n",
      "[16:12:04] WARNING: /Users/travis/build/dmlc/xgboost/src/learner.cc:1095: Starting in XGBoost 1.3.0, the default evaluation metric used with the objective 'multi:softprob' was changed from 'merror' to 'mlogloss'. Explicitly set eval_metric if you'd like to restore the old behavior.\n",
      "[0]\tvalidation_0-mlogloss:1.22493\n",
      "[1]\tvalidation_0-mlogloss:0.94225\n",
      "[2]\tvalidation_0-mlogloss:0.76318\n",
      "[3]\tvalidation_0-mlogloss:0.64007\n",
      "[4]\tvalidation_0-mlogloss:0.54649\n",
      "[5]\tvalidation_0-mlogloss:0.47606\n",
      "[6]\tvalidation_0-mlogloss:0.42123\n",
      "[7]\tvalidation_0-mlogloss:0.38022\n",
      "[8]\tvalidation_0-mlogloss:0.34776\n",
      "[9]\tvalidation_0-mlogloss:0.32161\n",
      "[10]\tvalidation_0-mlogloss:0.30165\n",
      "[11]\tvalidation_0-mlogloss:0.28490\n",
      "[12]\tvalidation_0-mlogloss:0.27087\n",
      "[13]\tvalidation_0-mlogloss:0.25915\n",
      "[14]\tvalidation_0-mlogloss:0.24978\n",
      "[15]\tvalidation_0-mlogloss:0.24147\n",
      "[16]\tvalidation_0-mlogloss:0.23520\n",
      "[17]\tvalidation_0-mlogloss:0.22935\n",
      "[18]\tvalidation_0-mlogloss:0.22441\n",
      "[19]\tvalidation_0-mlogloss:0.21987\n",
      "[20]\tvalidation_0-mlogloss:0.21593\n",
      "[21]\tvalidation_0-mlogloss:0.21244\n",
      "[22]\tvalidation_0-mlogloss:0.20985\n",
      "[23]\tvalidation_0-mlogloss:0.20763\n",
      "[24]\tvalidation_0-mlogloss:0.20485\n",
      "[25]\tvalidation_0-mlogloss:0.20248\n",
      "[26]\tvalidation_0-mlogloss:0.20084\n",
      "[27]\tvalidation_0-mlogloss:0.19861\n",
      "[28]\tvalidation_0-mlogloss:0.19718\n",
      "[29]\tvalidation_0-mlogloss:0.19526\n",
      "[30]\tvalidation_0-mlogloss:0.19382\n",
      "[31]\tvalidation_0-mlogloss:0.19285\n",
      "[32]\tvalidation_0-mlogloss:0.19146\n",
      "[33]\tvalidation_0-mlogloss:0.19071\n",
      "[34]\tvalidation_0-mlogloss:0.19015\n",
      "[35]\tvalidation_0-mlogloss:0.18964\n",
      "[36]\tvalidation_0-mlogloss:0.18861\n",
      "[37]\tvalidation_0-mlogloss:0.18797\n",
      "[38]\tvalidation_0-mlogloss:0.18678\n",
      "[39]\tvalidation_0-mlogloss:0.18616\n",
      "[40]\tvalidation_0-mlogloss:0.18531\n",
      "[41]\tvalidation_0-mlogloss:0.18479\n",
      "[42]\tvalidation_0-mlogloss:0.18462\n",
      "[43]\tvalidation_0-mlogloss:0.18460\n",
      "[44]\tvalidation_0-mlogloss:0.18405\n",
      "[45]\tvalidation_0-mlogloss:0.18348\n",
      "[46]\tvalidation_0-mlogloss:0.18352\n",
      "[47]\tvalidation_0-mlogloss:0.18358\n",
      "[48]\tvalidation_0-mlogloss:0.18336\n",
      "[49]\tvalidation_0-mlogloss:0.18351\n",
      "[50]\tvalidation_0-mlogloss:0.18308\n",
      "[51]\tvalidation_0-mlogloss:0.18238\n",
      "[52]\tvalidation_0-mlogloss:0.18215\n",
      "[53]\tvalidation_0-mlogloss:0.18174\n",
      "[54]\tvalidation_0-mlogloss:0.18176\n",
      "[55]\tvalidation_0-mlogloss:0.18188\n",
      "[56]\tvalidation_0-mlogloss:0.18189\n",
      "[57]\tvalidation_0-mlogloss:0.18195\n",
      "[58]\tvalidation_0-mlogloss:0.18190\n",
      "[59]\tvalidation_0-mlogloss:0.18180\n",
      "[60]\tvalidation_0-mlogloss:0.18153\n",
      "[61]\tvalidation_0-mlogloss:0.18156\n",
      "[62]\tvalidation_0-mlogloss:0.18142\n",
      "[63]\tvalidation_0-mlogloss:0.18156\n",
      "[64]\tvalidation_0-mlogloss:0.18161\n",
      "[65]\tvalidation_0-mlogloss:0.18172\n",
      "[66]\tvalidation_0-mlogloss:0.18167\n",
      "[67]\tvalidation_0-mlogloss:0.18178\n",
      "[68]\tvalidation_0-mlogloss:0.18171\n",
      "[69]\tvalidation_0-mlogloss:0.18155\n",
      "[70]\tvalidation_0-mlogloss:0.18165\n",
      "[71]\tvalidation_0-mlogloss:0.18148\n",
      "[72]\tvalidation_0-mlogloss:0.18131\n",
      "[73]\tvalidation_0-mlogloss:0.18110\n",
      "[74]\tvalidation_0-mlogloss:0.18105\n",
      "[75]\tvalidation_0-mlogloss:0.18105\n",
      "[76]\tvalidation_0-mlogloss:0.18092\n",
      "[77]\tvalidation_0-mlogloss:0.18058\n",
      "[78]\tvalidation_0-mlogloss:0.18056\n",
      "[79]\tvalidation_0-mlogloss:0.18029\n",
      "[80]\tvalidation_0-mlogloss:0.18029\n",
      "[81]\tvalidation_0-mlogloss:0.18041\n",
      "[82]\tvalidation_0-mlogloss:0.18044\n",
      "[83]\tvalidation_0-mlogloss:0.18071\n",
      "[84]\tvalidation_0-mlogloss:0.18099\n",
      "[85]\tvalidation_0-mlogloss:0.18086\n",
      "[86]\tvalidation_0-mlogloss:0.18090\n",
      "[87]\tvalidation_0-mlogloss:0.18071\n",
      "[88]\tvalidation_0-mlogloss:0.18079\n",
      "[89]\tvalidation_0-mlogloss:0.18076\n",
      "[90]\tvalidation_0-mlogloss:0.18073\n",
      "[91]\tvalidation_0-mlogloss:0.18093\n",
      "[92]\tvalidation_0-mlogloss:0.18099\n",
      "[93]\tvalidation_0-mlogloss:0.18097\n",
      "[94]\tvalidation_0-mlogloss:0.18098\n",
      "[95]\tvalidation_0-mlogloss:0.18105\n",
      "[96]\tvalidation_0-mlogloss:0.18110\n",
      "[97]\tvalidation_0-mlogloss:0.18113\n",
      "[98]\tvalidation_0-mlogloss:0.18127\n",
      "[99]\tvalidation_0-mlogloss:0.18130\n"
     ]
    },
    {
     "data": {
      "text/plain": [
       "XGBClassifier(base_score=0.5, booster='gbtree', colsample_bylevel=1,\n",
       "              colsample_bynode=1, colsample_bytree=0.5, gamma=0.4, gpu_id=-1,\n",
       "              importance_type='gain', interaction_constraints='',\n",
       "              learning_rate=0.300000012, max_delta_step=0, max_depth=7,\n",
       "              min_child_weight=12, missing=nan, monotone_constraints='()',\n",
       "              n_estimators=100, n_jobs=-1, num_parallel_tree=4,\n",
       "              objective='multi:softprob', random_state=0, reg_alpha=0,\n",
       "              reg_lambda=1, scale_pos_weight=None, subsample=1,\n",
       "              tree_method='exact', validate_parameters=1, verbose=True,\n",
       "              verbosity=None)"
      ]
     },
     "execution_count": 525,
     "metadata": {},
     "output_type": "execute_result"
    }
   ],
   "source": [
    "xgb.fit(X_train, y_train,eval_set=[(X_test,y_test)],early_stopping_rounds=20)"
   ]
  },
  {
   "cell_type": "code",
   "execution_count": 526,
   "metadata": {},
   "outputs": [
    {
     "data": {
      "text/html": [
       "<div>\n",
       "<style scoped>\n",
       "    .dataframe tbody tr th:only-of-type {\n",
       "        vertical-align: middle;\n",
       "    }\n",
       "\n",
       "    .dataframe tbody tr th {\n",
       "        vertical-align: top;\n",
       "    }\n",
       "\n",
       "    .dataframe thead th {\n",
       "        text-align: right;\n",
       "    }\n",
       "</style>\n",
       "<table border=\"1\" class=\"dataframe\">\n",
       "  <thead>\n",
       "    <tr style=\"text-align: right;\">\n",
       "      <th></th>\n",
       "      <th>0</th>\n",
       "      <th>1</th>\n",
       "    </tr>\n",
       "  </thead>\n",
       "  <tbody>\n",
       "    <tr>\n",
       "      <th>607</th>\n",
       "      <td>0.044303</td>\n",
       "      <td>chip</td>\n",
       "    </tr>\n",
       "    <tr>\n",
       "      <th>608</th>\n",
       "      <td>0.043646</td>\n",
       "      <td>cooki</td>\n",
       "    </tr>\n",
       "    <tr>\n",
       "      <th>600</th>\n",
       "      <td>0.029046</td>\n",
       "      <td>water</td>\n",
       "    </tr>\n",
       "    <tr>\n",
       "      <th>557</th>\n",
       "      <td>0.027546</td>\n",
       "      <td>flour</td>\n",
       "    </tr>\n",
       "    <tr>\n",
       "      <th>2</th>\n",
       "      <td>0.024749</td>\n",
       "      <td>Iron, Fe</td>\n",
       "    </tr>\n",
       "    <tr>\n",
       "      <th>601</th>\n",
       "      <td>0.021502</td>\n",
       "      <td>wheat</td>\n",
       "    </tr>\n",
       "    <tr>\n",
       "      <th>541</th>\n",
       "      <td>0.021108</td>\n",
       "      <td>cocoa</td>\n",
       "    </tr>\n",
       "    <tr>\n",
       "      <th>537</th>\n",
       "      <td>0.021024</td>\n",
       "      <td>butter</td>\n",
       "    </tr>\n",
       "    <tr>\n",
       "      <th>5</th>\n",
       "      <td>0.018923</td>\n",
       "      <td>Protein</td>\n",
       "    </tr>\n",
       "    <tr>\n",
       "      <th>6</th>\n",
       "      <td>0.018676</td>\n",
       "      <td>Total lipid (fat)</td>\n",
       "    </tr>\n",
       "  </tbody>\n",
       "</table>\n",
       "</div>"
      ],
      "text/plain": [
       "            0                  1\n",
       "607  0.044303               chip\n",
       "608  0.043646              cooki\n",
       "600  0.029046              water\n",
       "557  0.027546              flour\n",
       "2    0.024749           Iron, Fe\n",
       "601  0.021502              wheat\n",
       "541  0.021108              cocoa\n",
       "537  0.021024             butter\n",
       "5    0.018923            Protein\n",
       "6    0.018676  Total lipid (fat)"
      ]
     },
     "execution_count": 526,
     "metadata": {},
     "output_type": "execute_result"
    }
   ],
   "source": [
    "pd.DataFrame(zip(xgb.feature_importances_,X_train.columns)).sort_values(0,ascending=False)[:10]"
   ]
  },
  {
   "cell_type": "code",
   "execution_count": 527,
   "metadata": {},
   "outputs": [
    {
     "data": {
      "text/plain": [
       "Text(0.5, 1.0, 'Confusion Matrix')"
      ]
     },
     "execution_count": 527,
     "metadata": {},
     "output_type": "execute_result"
    },
    {
     "data": {
      "image/png": "[encoded data removed]",
      "text/plain": [
       "<Figure size 576x576 with 2 Axes>"
      ]
     },
     "metadata": {
      "needs_background": "light"
     },
     "output_type": "display_data"
    }
   ],
   "source": [
    "fig, ax = plt.subplots(figsize=(8, 8))\n",
    "xgb.predict(X_test)\n",
    "plot_confusion_matrix(xgb,X_test,y_test,ax=ax)\n",
    "plt.xticks(rotation=90)\n",
    "plt.title(\"Confusion Matrix\")"
   ]
  },
  {
   "cell_type": "code",
   "execution_count": 530,
   "metadata": {},
   "outputs": [
    {
     "data": {
      "text/plain": [
       "0.9307304785894207"
      ]
     },
     "execution_count": 530,
     "metadata": {},
     "output_type": "execute_result"
    }
   ],
   "source": [
    "accuracy_score(y_true=y_test,y_pred=xgb.predict(X_test))"
   ]
  },
  {
   "cell_type": "code",
   "execution_count": 531,
   "metadata": {},
   "outputs": [],
   "source": [
    "# Predict on Test and save as Data frame\n",
    "pd.DataFrame(zip(df_try_test.idx, xgb.predict(df_try_test.drop(['idx','category'],axis=1))),\n",
    "             columns=['idx','category']).to_csv('model1.csv',index=False)"
   ]
  },
  {
   "cell_type": "markdown",
   "metadata": {},
   "source": [
    "### Appendix 1 - Embedding the Images"
   ]
  },
  {
   "cell_type": "code",
   "execution_count": null,
   "metadata": {},
   "outputs": [],
   "source": [
    "#!pip install git+https://github.com/openai/CLIP.git\n",
    "#!pip install pillow\n",
    "import os\n",
    "import glob\n",
    "import torch\n",
    "import pandas as pd\n",
    "import numpy as np\n",
    "import torchvision.transforms as Transforms\n",
    "import matplotlib.pyplot as plt\n",
    "import matplotlib.image as mpimg\n",
    "import clip\n",
    "from PIL import Image\n",
    "from IPython.display import display"
   ]
  },
  {
   "cell_type": "code",
   "execution_count": null,
   "metadata": {},
   "outputs": [],
   "source": [
    "# Insert train if want to embbed the train images.\n",
    "path = '/Users/omriberkovitch/Desktop/APPS_IN_DS/final_proj/Final_Project/foods_final/test'\n",
    "img_files = [f for f in os.listdir(path) if f.endswith('.jpg')]\n",
    "device = \"cuda\" if torch.cuda.is_available() else \"cpu\"\n",
    "\n",
    "clip_model, clip_preproccess = clip.load('ViT-B/32',device)\n",
    "clip_model.eval()\n",
    "img_files"
   ]
  },
  {
   "cell_type": "code",
   "execution_count": null,
   "metadata": {},
   "outputs": [],
   "source": [
    "data = []\n",
    "for i,img in enumerate(img_files):\n",
    "  img_id = int(img.split('.')[0])\n",
    "  f_path = f\"{path}/{img}\"\n",
    "  encode_img = list(clip_model.encode_image(clip_preproccess(Image.open(f_path)).unsqueeze(0).to(device)).cpu().detach().numpy()[0])\n",
    "  encode_img = [img_id] + encode_img\n",
    "  data.append(encode_img)\n",
    "\n",
    "print(data)\n",
    "df = pd.DataFrame(data, columns=[f\"{i}\" for i in range(513)])"
   ]
  },
  {
   "cell_type": "markdown",
   "metadata": {},
   "source": [
    "### Appendix 2 - Merging data sets"
   ]
  },
  {
   "cell_type": "code",
   "execution_count": null,
   "metadata": {},
   "outputs": [],
   "source": [
    "# Load data sets\n",
    "df_food_n = pd.read_csv('data/food_nutrients.csv')\n",
    "df_nut = pd.read_csv('data/nutrients.csv')\n",
    "df_train = pd.read_csv('data/food_train.csv')\n",
    "df_test = pd.read_csv('data/food_test.csv')\n",
    "categories = df_train['category'].unique()"
   ]
  },
  {
   "cell_type": "code",
   "execution_count": null,
   "metadata": {},
   "outputs": [],
   "source": [
    "df_all = pd.concat([df_test,df_train]) # concat the train and test\n",
    "merged = pd.merge(df_food_n,df_all,on='idx')\n",
    "df_merged = pd.merge(merged,df_nut, on='nutrient_id')\n",
    "cols = ['idx', 'nutrient_id','name', 'unit_name', 'amount', \n",
    "        'brand', 'description', 'ingredients',\n",
    "       'serving_size', 'serving_size_unit', 'household_serving_fulltext',\n",
    "       'category']\n",
    "df_merged = df_merged[cols]\n",
    "lst_of_nut = df_merged['nutrient_id'].unique()\n",
    "d = dict(zip(df_nut['nutrient_id'],df_nut['name']))"
   ]
  },
  {
   "cell_type": "code",
   "execution_count": null,
   "metadata": {},
   "outputs": [],
   "source": [
    "df_all = pd.concat([df_test,df_train]) # concat the train and test\n",
    "\n",
    "# Create new colomuns for nutrient id\n",
    "for col in lst_of_nut:\n",
    "    df_all[col] = 0\n",
    "# Sort data frame by the index\n",
    "df_all.sort_values(by='idx')\n",
    "indexes = set(df_all['idx'])\n",
    "sorted(indexes)\n",
    "\n",
    "# Create df with all columns as nutrients and assign the value to each snack\n",
    "for food_id in indexes:\n",
    "    cpy = df_food_n[df_food_n['idx'] == food_id]\n",
    "    dc = dict(zip(cpy['nutrient_id'],cpy['amount']))\n",
    "    for item in dc.items():\n",
    "        df_all.loc[df_all['idx'] == food_id, item[0]] = item[1]\n",
    "\n",
    "# Rename the cols with nutrient id to it's truly name\n",
    "d = {str(key): value for key,value in d.items()}\n",
    "df_all.rename(columns=d,inplace=True)\n",
    "df_all.to_csv('combined_with_names.csv',index=False)"
   ]
  },
  {
   "cell_type": "markdown",
   "metadata": {},
   "source": [
    "### Appendix 3 - Parameters Tuning"
   ]
  },
  {
   "cell_type": "code",
   "execution_count": null,
   "metadata": {},
   "outputs": [],
   "source": [
    "xgb = XGBClassifier(n_jobs=-1, verbose=True)\n",
    "parameters = {\n",
    " \"max_depth\"        : [5,7],\n",
    " \"min_child_weight\" : [3,5,12],\n",
    " \"gamma\"            : [0.4,0.8,1.3],\n",
    " \"colsample_bytree\" : [0.5,0.8]}\n",
    "\n",
    "xgb_grid = GridSearchCV(xgb,\n",
    "                        parameters,\n",
    "                        cv = 3,\n",
    "                        n_jobs = -1,\n",
    "                        verbose=True)\n",
    "\n",
    "xgb_grid.fit(X_train, y_train)\n"
   ]
  },
  {
   "cell_type": "code",
   "execution_count": null,
   "metadata": {},
   "outputs": [],
   "source": [
    "xgb_best = xgb_grid.best_estimator_\n",
    "accuracy_score(y_true=y_test,y_pred=xgb_best.predict(X_test))"
   ]
  },
  {
   "cell_type": "code",
   "execution_count": 119,
   "metadata": {},
   "outputs": [],
   "source": [
    "pickle.dump(xgb_best, open('Optimized_XGB_MODEL.pkl', 'wb'))\n",
    "xgb_best.get_xgb_params()"
   ]
  }
 ],
 "metadata": {
  "kernelspec": {
   "display_name": "Python 3",
   "language": "python",
   "name": "python3"
  },
  "language_info": {
   "codemirror_mode": {
    "name": "ipython",
    "version": 3
   },
   "file_extension": ".py",
   "mimetype": "text/x-python",
   "name": "python",
   "nbconvert_exporter": "python",
   "pygments_lexer": "ipython3",
   "version": "3.8.3"
  }
 },
 "nbformat": 4,
 "nbformat_minor": 4
}
